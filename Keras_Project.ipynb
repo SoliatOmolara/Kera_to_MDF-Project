{
 "cells": [
  {
   "cell_type": "markdown",
   "id": "a1360162",
   "metadata": {},
   "source": [
    "## Importing Required Libraries"
   ]
  },
  {
   "cell_type": "code",
   "execution_count": 1,
   "id": "06ad51d6",
   "metadata": {},
   "outputs": [],
   "source": [
    "import numpy as np\n",
    "import tensorflow as tf\n",
    "from numpy import loadtxt\n",
    "from tensorflow.keras.models import Sequential\n",
    "from tensorflow.keras.models import save_model\n",
    "from tensorflow.keras import layers\n",
    "from tensorflow.keras.layers import Activation, Dense"
   ]
  },
  {
   "cell_type": "markdown",
   "id": "50dfff4b",
   "metadata": {},
   "source": [
    "## Loading Dataset"
   ]
  },
  {
   "cell_type": "code",
   "execution_count": 2,
   "id": "7613009d",
   "metadata": {},
   "outputs": [],
   "source": [
    "# load the dataset\n",
    "dataset = loadtxt('diabetes2.csv', delimiter=',')\n",
    "# split into input (X) and output (y) variables\n",
    "X = dataset[:,0:8]\n",
    "y = dataset[:,8]"
   ]
  },
  {
   "cell_type": "markdown",
   "id": "911ffa41",
   "metadata": {},
   "source": [
    "## Defining the Keras Model"
   ]
  },
  {
   "cell_type": "code",
   "execution_count": 3,
   "id": "3fd2d003",
   "metadata": {},
   "outputs": [],
   "source": [
    "# define the keras model\n",
    "model= tf.keras.Sequential()\n",
    "model.add(Dense(22, input_dim = 8,activation= 'relu', use_bias= True))\n",
    "model.add(Dense(8, activation= 'relu', use_bias= True))\n",
    "model.add(Dense(1, activation= 'sigmoid', use_bias= True)) \n",
    "model.add(Dense(12, input_dim = 8,activation= 'relu', use_bias= True))\n",
    "model.add(Dense(1, activation= 'sigmoid', use_bias= True))"
   ]
  },
  {
   "cell_type": "markdown",
   "id": "4425e20e",
   "metadata": {},
   "source": [
    "## Compiling the Keras Model"
   ]
  },
  {
   "cell_type": "code",
   "execution_count": 4,
   "id": "ef0d8d7c",
   "metadata": {},
   "outputs": [],
   "source": [
    "# compile the keras model\n",
    "model.compile(loss='mean_squared_error', optimizer='adam', metrics=['accuracy'])"
   ]
  },
  {
   "cell_type": "markdown",
   "id": "47daaf00",
   "metadata": {},
   "source": [
    "## Fitting and Evaluating the Model"
   ]
  },
  {
   "cell_type": "code",
   "execution_count": 5,
   "id": "54af1c8c",
   "metadata": {},
   "outputs": [
    {
     "name": "stdout",
     "output_type": "stream",
     "text": [
      "Epoch 1/150\n",
      "77/77 [==============================] - 10s 15ms/step - loss: 0.3089 - accuracy: 0.6502\n",
      "Epoch 2/150\n",
      "77/77 [==============================] - 1s 15ms/step - loss: 0.3039 - accuracy: 0.6502\n",
      "Epoch 3/150\n",
      "77/77 [==============================] - 1s 15ms/step - loss: 0.3023 - accuracy: 0.6502\n",
      "Epoch 4/150\n",
      "77/77 [==============================] - 1s 16ms/step - loss: 0.3016 - accuracy: 0.6502\n",
      "Epoch 5/150\n",
      "77/77 [==============================] - 1s 16ms/step - loss: 0.3012 - accuracy: 0.6502\n",
      "Epoch 6/150\n",
      "77/77 [==============================] - 2s 20ms/step - loss: 0.3010 - accuracy: 0.6502\n",
      "Epoch 7/150\n",
      "77/77 [==============================] - 1s 17ms/step - loss: 0.3010 - accuracy: 0.6502\n",
      "Epoch 8/150\n",
      "77/77 [==============================] - 2s 20ms/step - loss: 0.3009 - accuracy: 0.6502\n",
      "Epoch 9/150\n",
      "77/77 [==============================] - 2s 23ms/step - loss: 0.3008 - accuracy: 0.6502\n",
      "Epoch 10/150\n",
      "77/77 [==============================] - 2s 20ms/step - loss: 0.3006 - accuracy: 0.6502\n",
      "Epoch 11/150\n",
      "77/77 [==============================] - 2s 20ms/step - loss: 0.3005 - accuracy: 0.6502\n",
      "Epoch 12/150\n",
      "77/77 [==============================] - 2s 22ms/step - loss: 0.3004 - accuracy: 0.6502\n",
      "Epoch 13/150\n",
      "77/77 [==============================] - 1s 16ms/step - loss: 0.3008 - accuracy: 0.6502\n",
      "Epoch 14/150\n",
      "77/77 [==============================] - 1s 19ms/step - loss: 0.3005 - accuracy: 0.6502\n",
      "Epoch 15/150\n",
      "77/77 [==============================] - 1s 15ms/step - loss: 0.3006 - accuracy: 0.6502\n",
      "Epoch 16/150\n",
      "77/77 [==============================] - 2s 21ms/step - loss: 0.3003 - accuracy: 0.6502\n",
      "Epoch 17/150\n",
      "77/77 [==============================] - 1s 19ms/step - loss: 0.3004 - accuracy: 0.6502\n",
      "Epoch 18/150\n",
      "77/77 [==============================] - 1s 14ms/step - loss: 0.3011 - accuracy: 0.6502\n",
      "Epoch 19/150\n",
      "77/77 [==============================] - 2s 25ms/step - loss: 0.3007 - accuracy: 0.6502\n",
      "Epoch 20/150\n",
      "77/77 [==============================] - 1s 19ms/step - loss: 0.3006 - accuracy: 0.6502\n",
      "Epoch 21/150\n",
      "77/77 [==============================] - 2s 20ms/step - loss: 0.3005 - accuracy: 0.6502\n",
      "Epoch 22/150\n",
      "77/77 [==============================] - 1s 17ms/step - loss: 0.3006 - accuracy: 0.6502\n",
      "Epoch 23/150\n",
      "77/77 [==============================] - 2s 23ms/step - loss: 0.3004 - accuracy: 0.6502\n",
      "Epoch 24/150\n",
      "77/77 [==============================] - 2s 21ms/step - loss: 0.3003 - accuracy: 0.6502\n",
      "Epoch 25/150\n",
      "77/77 [==============================] - 1s 19ms/step - loss: 0.3003 - accuracy: 0.6502\n",
      "Epoch 26/150\n",
      "77/77 [==============================] - 1s 19ms/step - loss: 0.3002 - accuracy: 0.6502\n",
      "Epoch 27/150\n",
      "77/77 [==============================] - 2s 21ms/step - loss: 0.3002 - accuracy: 0.6502\n",
      "Epoch 28/150\n",
      "77/77 [==============================] - 1s 18ms/step - loss: 0.3002 - accuracy: 0.6502\n",
      "Epoch 29/150\n",
      "77/77 [==============================] - 1s 16ms/step - loss: 0.3002 - accuracy: 0.6502\n",
      "Epoch 30/150\n",
      "77/77 [==============================] - 1s 17ms/step - loss: 0.3002 - accuracy: 0.6502\n",
      "Epoch 31/150\n",
      "77/77 [==============================] - 1s 17ms/step - loss: 0.3002 - accuracy: 0.6502\n",
      "Epoch 32/150\n",
      "77/77 [==============================] - 1s 16ms/step - loss: 0.3001 - accuracy: 0.6502\n",
      "Epoch 33/150\n",
      "77/77 [==============================] - 1s 19ms/step - loss: 0.3002 - accuracy: 0.6502\n",
      "Epoch 34/150\n",
      "77/77 [==============================] - 1s 17ms/step - loss: 0.3001 - accuracy: 0.6502\n",
      "Epoch 35/150\n",
      "77/77 [==============================] - 1s 16ms/step - loss: 0.3001 - accuracy: 0.6502\n",
      "Epoch 36/150\n",
      "77/77 [==============================] - 2s 21ms/step - loss: 0.3003 - accuracy: 0.6489\n",
      "Epoch 37/150\n",
      "77/77 [==============================] - 2s 20ms/step - loss: 0.2999 - accuracy: 0.6502\n",
      "Epoch 38/150\n",
      "77/77 [==============================] - 2s 20ms/step - loss: 0.2999 - accuracy: 0.6502\n",
      "Epoch 39/150\n",
      "77/77 [==============================] - 2s 21ms/step - loss: 0.2999 - accuracy: 0.6502\n",
      "Epoch 40/150\n",
      "77/77 [==============================] - 1s 18ms/step - loss: 0.2999 - accuracy: 0.6502\n",
      "Epoch 41/150\n",
      "77/77 [==============================] - 1s 19ms/step - loss: 0.3000 - accuracy: 0.6502\n",
      "Epoch 42/150\n",
      "77/77 [==============================] - 1s 18ms/step - loss: 0.2999 - accuracy: 0.6502\n",
      "Epoch 43/150\n",
      "77/77 [==============================] - 2s 19ms/step - loss: 0.2998 - accuracy: 0.6502\n",
      "Epoch 44/150\n",
      "77/77 [==============================] - 1s 16ms/step - loss: 0.2998 - accuracy: 0.6502\n",
      "Epoch 45/150\n",
      "77/77 [==============================] - 1s 18ms/step - loss: 0.2998 - accuracy: 0.6502\n",
      "Epoch 46/150\n",
      "77/77 [==============================] - 2s 23ms/step - loss: 0.2997 - accuracy: 0.6502\n",
      "Epoch 47/150\n",
      "77/77 [==============================] - 1s 19ms/step - loss: 0.2997 - accuracy: 0.6502\n",
      "Epoch 48/150\n",
      "77/77 [==============================] - 1s 19ms/step - loss: 0.2997 - accuracy: 0.6502\n",
      "Epoch 49/150\n",
      "77/77 [==============================] - 2s 21ms/step - loss: 0.2996 - accuracy: 0.6502\n",
      "Epoch 50/150\n",
      "77/77 [==============================] - 2s 20ms/step - loss: 0.2997 - accuracy: 0.6502\n",
      "Epoch 51/150\n",
      "77/77 [==============================] - 2s 20ms/step - loss: 0.2997 - accuracy: 0.6502\n",
      "Epoch 52/150\n",
      "77/77 [==============================] - 1s 18ms/step - loss: 0.2997 - accuracy: 0.6502\n",
      "Epoch 53/150\n",
      "77/77 [==============================] - 2s 19ms/step - loss: 0.2997 - accuracy: 0.6502\n",
      "Epoch 54/150\n",
      "77/77 [==============================] - 1s 18ms/step - loss: 0.2996 - accuracy: 0.6502\n",
      "Epoch 55/150\n",
      "77/77 [==============================] - 1s 19ms/step - loss: 0.2996 - accuracy: 0.6502\n",
      "Epoch 56/150\n",
      "77/77 [==============================] - 1s 17ms/step - loss: 0.2996 - accuracy: 0.6502\n",
      "Epoch 57/150\n",
      "77/77 [==============================] - 1s 17ms/step - loss: 0.2995 - accuracy: 0.6502\n",
      "Epoch 58/150\n",
      "77/77 [==============================] - 1s 16ms/step - loss: 0.2996 - accuracy: 0.6502\n",
      "Epoch 59/150\n",
      "77/77 [==============================] - 1s 19ms/step - loss: 0.2996 - accuracy: 0.6502\n",
      "Epoch 60/150\n",
      "77/77 [==============================] - 2s 18ms/step - loss: 0.2996 - accuracy: 0.6502\n",
      "Epoch 61/150\n",
      "77/77 [==============================] - 1s 19ms/step - loss: 0.2994 - accuracy: 0.6502\n",
      "Epoch 62/150\n",
      "77/77 [==============================] - 1s 18ms/step - loss: 0.2995 - accuracy: 0.6502\n",
      "Epoch 63/150\n",
      "77/77 [==============================] - 1s 18ms/step - loss: 0.2994 - accuracy: 0.6502\n",
      "Epoch 64/150\n",
      "77/77 [==============================] - 1s 18ms/step - loss: 0.2996 - accuracy: 0.6502\n",
      "Epoch 65/150\n",
      "77/77 [==============================] - 1s 18ms/step - loss: 0.2994 - accuracy: 0.6502\n",
      "Epoch 66/150\n",
      "77/77 [==============================] - 1s 19ms/step - loss: 0.2994 - accuracy: 0.6502\n",
      "Epoch 67/150\n",
      "77/77 [==============================] - 2s 19ms/step - loss: 0.2994 - accuracy: 0.6502\n",
      "Epoch 68/150\n",
      "77/77 [==============================] - 1s 18ms/step - loss: 0.2994 - accuracy: 0.6502\n",
      "Epoch 69/150\n",
      "77/77 [==============================] - 1s 18ms/step - loss: 0.2993 - accuracy: 0.6502\n",
      "Epoch 70/150\n",
      "77/77 [==============================] - 2s 25ms/step - loss: 0.2994 - accuracy: 0.6502\n",
      "Epoch 71/150\n",
      "77/77 [==============================] - 2s 21ms/step - loss: 0.2994 - accuracy: 0.6502\n",
      "Epoch 72/150\n",
      "77/77 [==============================] - 1s 19ms/step - loss: 0.2994 - accuracy: 0.6502\n",
      "Epoch 73/150\n",
      "77/77 [==============================] - 1s 19ms/step - loss: 0.2993 - accuracy: 0.6502\n",
      "Epoch 74/150\n",
      "77/77 [==============================] - 2s 20ms/step - loss: 0.2992 - accuracy: 0.6502\n",
      "Epoch 75/150\n",
      "77/77 [==============================] - 1s 19ms/step - loss: 0.2992 - accuracy: 0.6502\n",
      "Epoch 76/150\n",
      "77/77 [==============================] - 2s 21ms/step - loss: 0.2992 - accuracy: 0.6502\n",
      "Epoch 77/150\n",
      "77/77 [==============================] - 1s 18ms/step - loss: 0.2993 - accuracy: 0.6502\n",
      "Epoch 78/150\n",
      "77/77 [==============================] - 2s 21ms/step - loss: 0.2993 - accuracy: 0.6502\n",
      "Epoch 79/150\n",
      "77/77 [==============================] - 2s 24ms/step - loss: 0.2992 - accuracy: 0.6502\n",
      "Epoch 80/150\n",
      "77/77 [==============================] - 2s 21ms/step - loss: 0.2991 - accuracy: 0.6502\n",
      "Epoch 81/150\n",
      "77/77 [==============================] - 2s 22ms/step - loss: 0.2991 - accuracy: 0.6502\n",
      "Epoch 82/150\n"
     ]
    },
    {
     "name": "stdout",
     "output_type": "stream",
     "text": [
      "77/77 [==============================] - 1s 16ms/step - loss: 0.2991 - accuracy: 0.6502\n",
      "Epoch 83/150\n",
      "77/77 [==============================] - 1s 15ms/step - loss: 0.2991 - accuracy: 0.6502\n",
      "Epoch 84/150\n",
      "77/77 [==============================] - 1s 16ms/step - loss: 0.2992 - accuracy: 0.6502\n",
      "Epoch 85/150\n",
      "77/77 [==============================] - 1s 18ms/step - loss: 0.2990 - accuracy: 0.6502\n",
      "Epoch 86/150\n",
      "77/77 [==============================] - 1s 18ms/step - loss: 0.2992 - accuracy: 0.6502\n",
      "Epoch 87/150\n",
      "77/77 [==============================] - 1s 17ms/step - loss: 0.2990 - accuracy: 0.6502\n",
      "Epoch 88/150\n",
      "77/77 [==============================] - 1s 17ms/step - loss: 0.2992 - accuracy: 0.6502\n",
      "Epoch 89/150\n",
      "77/77 [==============================] - 2s 24ms/step - loss: 0.2991 - accuracy: 0.6502\n",
      "Epoch 90/150\n",
      "77/77 [==============================] - 2s 23ms/step - loss: 0.2991 - accuracy: 0.6502\n",
      "Epoch 91/150\n",
      "77/77 [==============================] - 1s 18ms/step - loss: 0.2991 - accuracy: 0.6502\n",
      "Epoch 92/150\n",
      "77/77 [==============================] - 2s 20ms/step - loss: 0.2992 - accuracy: 0.6502\n",
      "Epoch 93/150\n",
      "77/77 [==============================] - 2s 19ms/step - loss: 0.2991 - accuracy: 0.6502\n",
      "Epoch 94/150\n",
      "77/77 [==============================] - 2s 19ms/step - loss: 0.2990 - accuracy: 0.6502\n",
      "Epoch 95/150\n",
      "77/77 [==============================] - 1s 19ms/step - loss: 0.2990 - accuracy: 0.6502\n",
      "Epoch 96/150\n",
      "77/77 [==============================] - 2s 20ms/step - loss: 0.2990 - accuracy: 0.6502\n",
      "Epoch 97/150\n",
      "77/77 [==============================] - 2s 20ms/step - loss: 0.2990 - accuracy: 0.6502\n",
      "Epoch 98/150\n",
      "77/77 [==============================] - 1s 19ms/step - loss: 0.2991 - accuracy: 0.6502\n",
      "Epoch 99/150\n",
      "77/77 [==============================] - 2s 25ms/step - loss: 0.2990 - accuracy: 0.6502\n",
      "Epoch 100/150\n",
      "77/77 [==============================] - 2s 20ms/step - loss: 0.2989 - accuracy: 0.6502\n",
      "Epoch 101/150\n",
      "77/77 [==============================] - 2s 26ms/step - loss: 0.2990 - accuracy: 0.6502\n",
      "Epoch 102/150\n",
      "77/77 [==============================] - 2s 22ms/step - loss: 0.2989 - accuracy: 0.6502\n",
      "Epoch 103/150\n",
      "77/77 [==============================] - 1s 19ms/step - loss: 0.2988 - accuracy: 0.6502\n",
      "Epoch 104/150\n",
      "77/77 [==============================] - 2s 19ms/step - loss: 0.2989 - accuracy: 0.6502\n",
      "Epoch 105/150\n",
      "77/77 [==============================] - 2s 23ms/step - loss: 0.2988 - accuracy: 0.6502\n",
      "Epoch 106/150\n",
      "77/77 [==============================] - 2s 21ms/step - loss: 0.2988 - accuracy: 0.6502\n",
      "Epoch 107/150\n",
      "77/77 [==============================] - 2s 20ms/step - loss: 0.2987 - accuracy: 0.6502\n",
      "Epoch 108/150\n",
      "77/77 [==============================] - 2s 21ms/step - loss: 0.2987 - accuracy: 0.6502\n",
      "Epoch 109/150\n",
      "77/77 [==============================] - 1s 19ms/step - loss: 0.2987 - accuracy: 0.6502\n",
      "Epoch 110/150\n",
      "77/77 [==============================] - 2s 23ms/step - loss: 0.2988 - accuracy: 0.6502\n",
      "Epoch 111/150\n",
      "77/77 [==============================] - 2s 21ms/step - loss: 0.2988 - accuracy: 0.6502\n",
      "Epoch 112/150\n",
      "77/77 [==============================] - 1s 19ms/step - loss: 0.2987 - accuracy: 0.6502\n",
      "Epoch 113/150\n",
      "77/77 [==============================] - 2s 21ms/step - loss: 0.2988 - accuracy: 0.6502\n",
      "Epoch 114/150\n",
      "77/77 [==============================] - 2s 25ms/step - loss: 0.2987 - accuracy: 0.6502\n",
      "Epoch 115/150\n",
      "77/77 [==============================] - 2s 21ms/step - loss: 0.2987 - accuracy: 0.6502\n",
      "Epoch 116/150\n",
      "77/77 [==============================] - 1s 19ms/step - loss: 0.2987 - accuracy: 0.6502\n",
      "Epoch 117/150\n",
      "77/77 [==============================] - 2s 22ms/step - loss: 0.2986 - accuracy: 0.6502\n",
      "Epoch 118/150\n",
      "77/77 [==============================] - 2s 20ms/step - loss: 0.2986 - accuracy: 0.6502\n",
      "Epoch 119/150\n",
      "77/77 [==============================] - 1s 19ms/step - loss: 0.2987 - accuracy: 0.6502\n",
      "Epoch 120/150\n",
      "77/77 [==============================] - 2s 22ms/step - loss: 0.2986 - accuracy: 0.6502\n",
      "Epoch 121/150\n",
      "77/77 [==============================] - 1s 18ms/step - loss: 0.2985 - accuracy: 0.6502\n",
      "Epoch 122/150\n",
      "77/77 [==============================] - 2s 25ms/step - loss: 0.2985 - accuracy: 0.6502\n",
      "Epoch 123/150\n",
      "77/77 [==============================] - 2s 23ms/step - loss: 0.2986 - accuracy: 0.6502\n",
      "Epoch 124/150\n",
      "77/77 [==============================] - 2s 23ms/step - loss: 0.2986 - accuracy: 0.6502\n",
      "Epoch 125/150\n",
      "77/77 [==============================] - 2s 20ms/step - loss: 0.2985 - accuracy: 0.6502\n",
      "Epoch 126/150\n",
      "77/77 [==============================] - 2s 23ms/step - loss: 0.2985 - accuracy: 0.6502\n",
      "Epoch 127/150\n",
      "77/77 [==============================] - 2s 22ms/step - loss: 0.2985 - accuracy: 0.6502\n",
      "Epoch 128/150\n",
      "77/77 [==============================] - 2s 20ms/step - loss: 0.2984 - accuracy: 0.6502\n",
      "Epoch 129/150\n",
      "77/77 [==============================] - 2s 20ms/step - loss: 0.2985 - accuracy: 0.6502\n",
      "Epoch 130/150\n",
      "77/77 [==============================] - 2s 25ms/step - loss: 0.2989 - accuracy: 0.6463\n",
      "Epoch 131/150\n",
      "77/77 [==============================] - 2s 22ms/step - loss: 0.2984 - accuracy: 0.6502\n",
      "Epoch 132/150\n",
      "77/77 [==============================] - 2s 23ms/step - loss: 0.2983 - accuracy: 0.6502\n",
      "Epoch 133/150\n",
      "77/77 [==============================] - 3s 33ms/step - loss: 0.2984 - accuracy: 0.6502\n",
      "Epoch 134/150\n",
      "77/77 [==============================] - 3s 34ms/step - loss: 0.2983 - accuracy: 0.6502\n",
      "Epoch 135/150\n",
      "77/77 [==============================] - 3s 35ms/step - loss: 0.2983 - accuracy: 0.6502\n",
      "Epoch 136/150\n",
      "77/77 [==============================] - 2s 29ms/step - loss: 0.2984 - accuracy: 0.6502\n",
      "Epoch 137/150\n",
      "77/77 [==============================] - 2s 28ms/step - loss: 0.2982 - accuracy: 0.6502\n",
      "Epoch 138/150\n",
      "77/77 [==============================] - 2s 31ms/step - loss: 0.2982 - accuracy: 0.6502\n",
      "Epoch 139/150\n",
      "77/77 [==============================] - 2s 24ms/step - loss: 0.2982 - accuracy: 0.6502\n",
      "Epoch 140/150\n",
      "77/77 [==============================] - 2s 24ms/step - loss: 0.2983 - accuracy: 0.6502\n",
      "Epoch 141/150\n",
      "77/77 [==============================] - 2s 28ms/step - loss: 0.2984 - accuracy: 0.6502\n",
      "Epoch 142/150\n",
      "77/77 [==============================] - 2s 22ms/step - loss: 0.2982 - accuracy: 0.6502\n",
      "Epoch 143/150\n",
      "77/77 [==============================] - 2s 25ms/step - loss: 0.2982 - accuracy: 0.6502\n",
      "Epoch 144/150\n",
      "77/77 [==============================] - 2s 30ms/step - loss: 0.2981 - accuracy: 0.6502\n",
      "Epoch 145/150\n",
      "77/77 [==============================] - 2s 27ms/step - loss: 0.2981 - accuracy: 0.6502\n",
      "Epoch 146/150\n",
      "77/77 [==============================] - 2s 24ms/step - loss: 0.2981 - accuracy: 0.6502\n",
      "Epoch 147/150\n",
      "77/77 [==============================] - 2s 22ms/step - loss: 0.2981 - accuracy: 0.6502\n",
      "Epoch 148/150\n",
      "77/77 [==============================] - 2s 25ms/step - loss: 0.2981 - accuracy: 0.6502\n",
      "Epoch 149/150\n",
      "77/77 [==============================] - 2s 23ms/step - loss: 0.2982 - accuracy: 0.6502\n",
      "Epoch 150/150\n",
      "77/77 [==============================] - 2s 22ms/step - loss: 0.2981 - accuracy: 0.6502\n",
      "25/25 [==============================] - 3s 19ms/step - loss: 0.2979 - accuracy: 0.6502\n",
      "accuracy: 65.02%\n"
     ]
    }
   ],
   "source": [
    "# fit the keras model on the dataset without progress bars\n",
    "model.fit(X, y, epochs=150, batch_size=10, verbose=1)\n",
    "# evaluate the keras model\n",
    "accuracy = model.evaluate(X, y, verbose=1)\n",
    "print ('%s: %.2f%%' %(model.metrics_names[1], accuracy[1]*100))"
   ]
  },
  {
   "cell_type": "markdown",
   "id": "914e7afb",
   "metadata": {},
   "source": [
    "## Model Summary and Predictions"
   ]
  },
  {
   "cell_type": "code",
   "execution_count": 6,
   "id": "c8c3557e",
   "metadata": {},
   "outputs": [
    {
     "name": "stdout",
     "output_type": "stream",
     "text": [
      "Model: \"sequential\"\n",
      "_________________________________________________________________\n",
      " Layer (type)                Output Shape              Param #   \n",
      "=================================================================\n",
      " dense (Dense)               (None, 22)                198       \n",
      "                                                                 \n",
      " dense_1 (Dense)             (None, 8)                 184       \n",
      "                                                                 \n",
      " dense_2 (Dense)             (None, 1)                 9         \n",
      "                                                                 \n",
      " dense_3 (Dense)             (None, 12)                24        \n",
      "                                                                 \n",
      " dense_4 (Dense)             (None, 1)                 13        \n",
      "                                                                 \n",
      "=================================================================\n",
      "Total params: 428\n",
      "Trainable params: 428\n",
      "Non-trainable params: 0\n",
      "_________________________________________________________________\n"
     ]
    }
   ],
   "source": [
    "# model summary\n",
    "model.summary()"
   ]
  },
  {
   "cell_type": "code",
   "execution_count": 7,
   "id": "0ca38596",
   "metadata": {},
   "outputs": [
    {
     "name": "stdout",
     "output_type": "stream",
     "text": [
      "25/25 [==============================] - 2s 17ms/step\n"
     ]
    }
   ],
   "source": [
    "# make probability predictions with the model\n",
    "predictions = model.predict(X)"
   ]
  },
  {
   "cell_type": "code",
   "execution_count": 8,
   "id": "c57d469a",
   "metadata": {},
   "outputs": [],
   "source": [
    "# round predictions \n",
    "rounded = [round(x[0]) for x in predictions]"
   ]
  },
  {
   "cell_type": "code",
   "execution_count": 9,
   "id": "aaf2ea62",
   "metadata": {},
   "outputs": [
    {
     "name": "stdout",
     "output_type": "stream",
     "text": [
      "25/25 [==============================] - 0s 10ms/step\n"
     ]
    }
   ],
   "source": [
    "# make class predictions with the model\n",
    "predictions = (model.predict(X) > 0.5).astype(int)"
   ]
  },
  {
   "cell_type": "markdown",
   "id": "9c5e1c40",
   "metadata": {},
   "source": [
    "## Saving the Model"
   ]
  },
  {
   "cell_type": "code",
   "execution_count": 10,
   "id": "5cd122ba",
   "metadata": {},
   "outputs": [],
   "source": [
    "#saving model using h5 \n",
    "save_model(model, 'model.h5')"
   ]
  },
  {
   "cell_type": "code",
   "execution_count": null,
   "id": "f510349e",
   "metadata": {},
   "outputs": [],
   "source": []
  }
 ],
 "metadata": {
  "kernelspec": {
   "display_name": "Python 3 (ipykernel)",
   "language": "python",
   "name": "python3"
  },
  "language_info": {
   "codemirror_mode": {
    "name": "ipython",
    "version": 3
   },
   "file_extension": ".py",
   "mimetype": "text/x-python",
   "name": "python",
   "nbconvert_exporter": "python",
   "pygments_lexer": "ipython3",
   "version": "3.9.7"
  },
  "vscode": {
   "interpreter": {
    "hash": "dc07d24e2f18896857f0b2a651fe84ba40ce7b297e58d8804a308c8039f752a6"
   }
  }
 },
 "nbformat": 4,
 "nbformat_minor": 5
}
